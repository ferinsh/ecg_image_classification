{
 "cells": [
  {
   "cell_type": "code",
   "execution_count": 1,
   "id": "2a4dd129",
   "metadata": {},
   "outputs": [],
   "source": [
    "import cv2\n",
    "import numpy as np\n",
    "import torch\n",
    "from torch.utils.data import Dataset, DataLoader\n",
    "\n"
   ]
  },
  {
   "cell_type": "code",
   "execution_count": 2,
   "id": "6125ef53",
   "metadata": {},
   "outputs": [],
   "source": [
    "class ECGDataset(Dataset):\n",
    "    def __init__(self, file_paths, labels, transform = None, mode = 'random'):\n",
    "        self.file_paths = file_paths\n",
    "        self.labels = labels\n",
    "        self.transform = transform\n",
    "        self.mode = mode\n",
    "    def __len__(self):\n",
    "        return len(self.file_paths)\n",
    "    def apply_thresholds(self, img):\n",
    "        _, th_binary = cv2.threshold(img, 128, 255, cv2.THRESH_BINARY)\n",
    "        _, th_otsu = cv2.threshold(img, 0, 255, cv2.THRESH_BINARY + cv2.THRESH_OTSU)\n",
    "        _, th_adaptive = cv2.adaptiveThreshold(img, 255, cv2.ADAPTIVE_THRESH_MEAN_, cv2.THRESH_BINARY, 11, 2)\n",
    "        return [th_binary, th_otsu, th_adaptive]\n",
    "    def __getitem__(self, idx):\n",
    "        img = cv2.imread(self.file_paths[idx], cv2.IMREAD_GRAYSCALE)\n",
    "        label = self.labels[idx]\n",
    "        imgs = [img, cv2.medianBlur(img, 3)]\n",
    "        variants = []\n",
    "        for base_img in imgs:\n",
    "            variants.append(base_img)\n",
    "            variants.append(self.apply_thresholds(base_img))\n",
    "        if self.mode == 'random':\n",
    "            chosen_img = variants[np.random.randint(len(variants))]\n",
    "            final_img = chosen_img\n",
    "        else:\n",
    "            final_img = np.stack(variants, axis = 0)\n",
    "        if self.transform:\n",
    "            final_img = self.transform(final_img)\n",
    "        else:\n",
    "            if final_img.ndim == 2:\n",
    "                final_img = torch.from_numpy(final_img).float().unsqueeze(0) / 255.0\n",
    "            elif final_img.ndim == 3:\n",
    "                final_img = torch.from_numpy(final_img).float().unsqueeze(1) / 255.0\n",
    "        return final_img, label"
   ]
  },
  {
   "cell_type": "code",
   "execution_count": 3,
   "id": "a5ce4b7d",
   "metadata": {},
   "outputs": [],
   "source": [
    "import os\n",
    "\n",
    "def get_image_paths_and_labels(data_root):\n",
    "    file_paths = []\n",
    "    labels = []\n",
    "    label_names = sorted(os.listdir(data_root))\n",
    "    label_to_idx = {label: idx for idx, label in enumerate(label_names)}\n",
    "\n",
    "    for label in label_names:\n",
    "        label_folder = os.path.join(data_root, label)\n",
    "        if not os.path.isdir(label_folder):\n",
    "            continue\n",
    "        for fname in os.listdir(label_folder):\n",
    "            if fname.lower().endswith(('png', 'jpg', 'jpeg')):\n",
    "                file_paths.append(os.path.join(label_folder, fname))\n",
    "                labels.append(label_to_idx[label])\n",
    "    return file_paths, labels, label_to_idx\n",
    "\n",
    "data_root = 'data/sorted_images'\n",
    "file_paths, labels, label_to_idx = get_image_paths_and_labels(data_root)\n",
    "\n",
    "dataset = ECGDataset(file_paths, labels)\n",
    "loader = DataLoader(dataset, batch_size=32, shuffle=True)"
   ]
  },
  {
   "cell_type": "code",
   "execution_count": 4,
   "id": "7ab5f1e5",
   "metadata": {},
   "outputs": [],
   "source": [
    "import torch.nn as nn\n",
    "import torch.nn.functional as F\n",
    "\n",
    "class SimpleECGCNN(nn.Module):\n",
    "    def __init__(self, num_classes, resize_shape = (256, 256)):\n",
    "        super(SimpleECGCNN, self).__init__()\n",
    "        self.resize_shape = resize_shape\n",
    "        self.conv1 = nn.Conv2d(1, 32, kernel_size=3, padding=1)\n",
    "        self.conv2 = nn.Conv2d(32, 64, kernel_size=3, padding=1)\n",
    "        self.conv3 = nn.Conv2d(64, 128, kernel_size=3, padding=1)\n",
    "        self.pool = nn.MaxPool2d(2, 2)\n",
    "        self.dropout = nn.Dropout(0.25)\n",
    "        out_h, out_w = self.resize_shape[0] // 8, self.resize_shape[1] // 8\n",
    "        self.fc1 = nn.Linear(128 * out_h * out_w, 256)\n",
    "        self.fc2 = nn.Linear(256, num_classes)\n",
    "\n",
    "    def forward(self, x):\n",
    "        x = F.interpolate(x, size = self.resize_shape, mode = 'bilinear', align_corners = False)\n",
    "        x = self.pool(F.relu(self.conv1(x)))\n",
    "        x = self.pool(F.relu(self.conv2(x)))\n",
    "        x = self.pool(F.relu(self.conv3(x)))\n",
    "        x = self.dropout(x)\n",
    "        x = x.view(x.size(0), -1)\n",
    "        x = F.relu(self.fc1(x))\n",
    "        x = self.dropout(x)\n",
    "        x = self.fc2(x)\n",
    "        return x\n",
    "\n",
    "num_classes = 7\n",
    "resize_shape = (256, 256)\n",
    "model = SimpleECGCNN(num_classes, resize_shape)"
   ]
  },
  {
   "cell_type": "code",
   "execution_count": 5,
   "id": "22cbdde4",
   "metadata": {},
   "outputs": [],
   "source": [
    "import torch.optim as optim\n",
    "from torch.utils.data import random_split"
   ]
  },
  {
   "cell_type": "code",
   "execution_count": 6,
   "id": "d619ed26",
   "metadata": {},
   "outputs": [],
   "source": [
    "from sklearn.model_selection import train_test_split\n",
    "train_paths, val_paths, train_labels, val_labels = train_test_split(\n",
    "    file_paths, labels, test_size=0.2, stratify=labels, random_state=42\n",
    ")"
   ]
  },
  {
   "cell_type": "code",
   "execution_count": 7,
   "id": "bfbfb1bb",
   "metadata": {},
   "outputs": [],
   "source": [
    "resize_shape = (256, 256)\n",
    "batch_size = 16\n",
    "\n",
    "train_dataset = ECGDataset(train_paths, train_labels)\n",
    "val_dataset = ECGDataset(val_paths, val_labels)\n",
    "\n",
    "train_loader = DataLoader(train_dataset, batch_size=batch_size, shuffle=True, num_workers=2)\n",
    "val_loader = DataLoader(val_dataset, batch_size=batch_size, shuffle=False, num_workers=2)\n"
   ]
  },
  {
   "cell_type": "code",
   "execution_count": 8,
   "id": "2f4e5b6a",
   "metadata": {},
   "outputs": [],
   "source": [
    "num_classes = len(label_to_idx)\n",
    "device = torch.device('cuda' if torch.cuda.is_available() else 'cpu')\n",
    "model = SimpleECGCNN(num_classes, resize_shape).to(device)\n",
    "criterion = nn.CrossEntropyLoss()\n",
    "optimizer = optim.Adam(model.parameters(), lr = 1e-4)"
   ]
  },
  {
   "cell_type": "code",
   "execution_count": 1,
   "id": "da6937a9",
   "metadata": {},
   "outputs": [
    {
     "data": {
      "text/plain": [
       "device(type='cuda')"
      ]
     },
     "execution_count": 1,
     "metadata": {},
     "output_type": "execute_result"
    }
   ],
   "source": [
    "import torch\n",
    "torch.device('cuda' if torch.cuda.is_available() else 'cpu')"
   ]
  },
  {
   "cell_type": "code",
   "execution_count": 2,
   "id": "eb6e4db0",
   "metadata": {},
   "outputs": [
    {
     "name": "stderr",
     "output_type": "stream",
     "text": [
      "C:\\Users\\ferin\\AppData\\Local\\Temp\\ipykernel_18980\\3024658294.py:1: UserWarning: The torch.cuda.*DtypeTensor constructors are no longer recommended. It's best to use methods such as torch.tensor(data, dtype=*, device='cuda') to create tensors. (Triggered internally at C:\\actions-runner\\_work\\pytorch\\pytorch\\pytorch\\torch\\csrc\\tensor\\python_tensor.cpp:80.)\n",
      "  a=torch.cuda.FloatTensor()\n"
     ]
    }
   ],
   "source": [
    "a=torch.cuda.FloatTensor()"
   ]
  },
  {
   "cell_type": "code",
   "execution_count": null,
   "id": "17866830",
   "metadata": {},
   "outputs": [
    {
     "name": "stdout",
     "output_type": "stream",
     "text": [
      "Epoch 1/10 | \n"
     ]
    }
   ],
   "source": [
    "num_epochs = 10\n",
    "\n",
    "for epoch in range(num_epochs):\n",
    "    print(f\"Epoch {epoch+1}/{num_epochs} | \")\n",
    "    model.train()\n",
    "    running_loss = 0.0\n",
    "    correct = total = 0\n",
    "    for imgs, lbls in train_loader:\n",
    "        imgs, lbls = imgs.to(device), lbls.to(device)\n",
    "        optimizer.zero_grad()\n",
    "        outputs = model(imgs)\n",
    "        loss = criterion(outputs, lbls)\n",
    "        loss.backward()\n",
    "        optimizer.step()\n",
    "        running_loss += loss.item() * imgs.size(0)\n",
    "        _, predicted = outputs.max(1)\n",
    "        total += lbls.size(0)\n",
    "        correct += predicted.eq(lbls).sum().item()\n",
    "    train_loss = running_loss / total\n",
    "    train_acc = correct / total\n",
    "\n",
    "    model.eval()\n",
    "    val_running_loss = 0.0\n",
    "    val_correct = val_total = 0\n",
    "    with torch.no_grad():\n",
    "        for imgs, lbls in val_loader:\n",
    "            imgs, lbls = imgs.to(device), lbls.to(device)\n",
    "            outputs = model(imgs)\n",
    "            loss = criterion(outputs, lbls)\n",
    "            val_running_loss += loss.item() * imgs.size(0)\n",
    "            _, predicted = outputs.max(1)\n",
    "            val_total += lbls.size(0)\n",
    "            val_correct += predicted.eq(lbls).sum().item()\n",
    "    val_loss = val_running_loss / val_total\n",
    "    val_acc = val_correct / val_total\n",
    "\n",
    "    print(\n",
    "        f\"Train Loss: {train_loss:.4f}, Train Acc: {train_acc:.4f} | \"\n",
    "        f\"Val Loss: {val_loss:.4f}, Val Acc: {val_acc:.4f}\"\n",
    "    )"
   ]
  }
 ],
 "metadata": {
  "kernelspec": {
   "display_name": ".venv",
   "language": "python",
   "name": "python3"
  },
  "language_info": {
   "codemirror_mode": {
    "name": "ipython",
    "version": 3
   },
   "file_extension": ".py",
   "mimetype": "text/x-python",
   "name": "python",
   "nbconvert_exporter": "python",
   "pygments_lexer": "ipython3",
   "version": "3.12.8"
  }
 },
 "nbformat": 4,
 "nbformat_minor": 5
}
