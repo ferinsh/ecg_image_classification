{
 "cells": [
  {
   "cell_type": "code",
   "execution_count": 1,
   "id": "e66f9d29",
   "metadata": {},
   "outputs": [],
   "source": [
    "import os\n",
    "import pandas as pd\n",
    "import wfdb\n",
    "import ecg_plot\n",
    "import ast\n",
    "from tqdm import tqdm"
   ]
  },
  {
   "cell_type": "code",
   "execution_count": 2,
   "id": "34cddc93",
   "metadata": {},
   "outputs": [],
   "source": [
    "CSV_PATH = 'data/ptb-xl/ptbxl_database.csv'\n",
    "RECORDS_PATH = 'data/ptb-xl/'\n",
    "OUTPUT_DIR = 'data/ptb-xl_images'\n"
   ]
  },
  {
   "cell_type": "code",
   "execution_count": 3,
   "id": "24207db8",
   "metadata": {},
   "outputs": [],
   "source": [
    "df = pd.read_csv(CSV_PATH)\n",
    "df['scp_codes'] = df['scp_codes'].apply(ast.literal_eval)"
   ]
  },
  {
   "cell_type": "code",
   "execution_count": 4,
   "id": "f8ae930d",
   "metadata": {},
   "outputs": [],
   "source": [
    "def get_main_label(scp_dict):\n",
    "    if not scp_dict:\n",
    "        return 'Unknown'\n",
    "    return sorted(scp_dict.keys())[0]"
   ]
  },
  {
   "cell_type": "code",
   "execution_count": null,
   "id": "1c18d87f",
   "metadata": {},
   "outputs": [
    {
     "name": "stderr",
     "output_type": "stream",
     "text": [
      "Processing ECGs:   1%|          | 236/21799 [09:06<13:23:56,  2.24s/it]"
     ]
    }
   ],
   "source": [
    "for _, row in tqdm(df.iterrows(), total=len(df), desc=\"Processing ECGs\"):\n",
    "    ecg_id = row['ecg_id']\n",
    "    filename_hr = row['filename_hr']  # e.g., 'records500/01000/01001_hr'\n",
    "    scp_label = get_main_label(row['scp_codes'])\n",
    "\n",
    "    # Build full path to the record (without extension)\n",
    "    record_path = os.path.join(RECORDS_PATH, filename_hr)\n",
    "\n",
    "    try:\n",
    "        record = wfdb.rdrecord(record_path)\n",
    "\n",
    "        # Transpose so each row is a lead\n",
    "        ecg_data = record.p_signal.T\n",
    "        lead_names = record.sig_name\n",
    "\n",
    "        # Plot and save image\n",
    "        ecg_plot.plot(ecg_data[:, :5000], sample_rate=record.fs, lead_index=lead_names)\n",
    "        save_path = os.path.join(OUTPUT_DIR, f'{ecg_id}_{scp_label}')\n",
    "        ecg_plot.save_as_png(save_path)\n",
    "        \n",
    "    except Exception as e:\n",
    "        print(f\"Failed to process {record_path}: {e}\")"
   ]
  }
 ],
 "metadata": {
  "kernelspec": {
   "display_name": ".venv",
   "language": "python",
   "name": "python3"
  },
  "language_info": {
   "codemirror_mode": {
    "name": "ipython",
    "version": 3
   },
   "file_extension": ".py",
   "mimetype": "text/x-python",
   "name": "python",
   "nbconvert_exporter": "python",
   "pygments_lexer": "ipython3",
   "version": "3.12.8"
  }
 },
 "nbformat": 4,
 "nbformat_minor": 5
}
